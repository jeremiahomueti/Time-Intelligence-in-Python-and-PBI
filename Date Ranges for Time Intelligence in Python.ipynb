{
 "cells": [
  {
   "cell_type": "code",
   "execution_count": 6,
   "id": "ae564bd2",
   "metadata": {},
   "outputs": [],
   "source": [
    "#import packages\n",
    "import pandas as pd"
   ]
  },
  {
   "cell_type": "code",
   "execution_count": 7,
   "id": "ae71b99b",
   "metadata": {},
   "outputs": [],
   "source": [
    "start='1/1/2020'\n",
    "end='1/12/2020'\n",
    "date_table = pd.DataFrame(pd.date_range(start,end, tz='GMT', freq='H'),columns=['Date'])\n",
    "date_table['Year'] = date_table['Date'].dt.year\n",
    "date_table['Month'] = date_table['Date'].dt.month\n",
    "date_table['Day'] = date_table['Date'].dt.day\n",
    "date_table['Time'] = date_table['Date'].dt.time\n",
    "date_table['Quarter'] = date_table['Date'].dt.quarter\n",
    "date_table['Day Of Week'] = date_table['Date'].dt.dayofweek\n",
    "date_table['Hour'] = date_table['Date'].dt.hour\n",
    "date_table['Minute'] = date_table['Date'].dt.minute\n",
    "date_table['Second'] = date_table['Date'].dt.second\n",
    "date_table['Abb. Day Of Week'] = date_table['Date'].dt.strftime('%a')\n",
    "date_table['AM_PM'] = date_table['Date'].dt.strftime('%p')\n",
    "date_table.set_index(['Date'],inplace=True)\n",
    "\n",
    "date_table.to_csv('Date_Table.csv')"
   ]
  },
  {
   "cell_type": "code",
   "execution_count": 8,
   "id": "a5d16d26",
   "metadata": {},
   "outputs": [
    {
     "data": {
      "text/plain": [
       "'C:\\\\Users\\\\PEN BUSINESS ANALYST\\\\Python Projects\\\\Time Intelligence in Python and PBI'"
      ]
     },
     "execution_count": 8,
     "metadata": {},
     "output_type": "execute_result"
    }
   ],
   "source": [
    "pwd"
   ]
  },
  {
   "cell_type": "code",
   "execution_count": null,
   "id": "d4602dae",
   "metadata": {},
   "outputs": [],
   "source": []
  },
  {
   "cell_type": "code",
   "execution_count": null,
   "id": "1d7758b1",
   "metadata": {},
   "outputs": [],
   "source": []
  },
  {
   "cell_type": "code",
   "execution_count": null,
   "id": "78d02dac",
   "metadata": {},
   "outputs": [],
   "source": []
  },
  {
   "cell_type": "code",
   "execution_count": null,
   "id": "17c01a21",
   "metadata": {},
   "outputs": [],
   "source": []
  }
 ],
 "metadata": {
  "kernelspec": {
   "display_name": "Python 3 (ipykernel)",
   "language": "python",
   "name": "python3"
  },
  "language_info": {
   "codemirror_mode": {
    "name": "ipython",
    "version": 3
   },
   "file_extension": ".py",
   "mimetype": "text/x-python",
   "name": "python",
   "nbconvert_exporter": "python",
   "pygments_lexer": "ipython3",
   "version": "3.9.13"
  }
 },
 "nbformat": 4,
 "nbformat_minor": 5
}

